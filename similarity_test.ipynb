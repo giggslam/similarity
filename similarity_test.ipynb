{
 "cells": [
  {
   "cell_type": "code",
   "execution_count": 1,
   "metadata": {},
   "outputs": [],
   "source": [
    "from math import *\n",
    "from decimal import Decimal\n",
    "\n",
    "class Similarity():\n",
    "\n",
    "    \"\"\" Five similarity measures function \"\"\"\n",
    "\n",
    "    def euclidean_distance(self,x,y):\n",
    "        \"\"\" return euclidean distance between two lists \"\"\"\n",
    "        return sqrt(sum(pow(a-b,2) for a, b in zip(x, y)))\n",
    "\n",
    "    def manhattan_distance(self,x,y):\n",
    "        \"\"\" return manhattan distance between two lists \"\"\"\n",
    "        return sum(abs(a-b) for a,b in zip(x,y))\n",
    "\n",
    "\n",
    "    def minkowski_distance(self,x,y,p_value):\n",
    "        \"\"\" return minkowski distance between two lists \"\"\"\n",
    "        return self.nth_root(sum(pow(abs(a-b),p_value) for a,b in zip(x, y)),p_value)\n",
    "\n",
    "    def nth_root(self,value, n_root):\n",
    "        \"\"\" returns the n_root of an value \"\"\"\n",
    "        root_value  = 1/float(n_root)\n",
    "        return round (Decimal(value) ** Decimal(root_value),3)\n",
    "\n",
    "    def cosine_similarity(self,x,y):\n",
    "        \"\"\" return cosine similarity between two lists \"\"\"\n",
    "        numerator = sum(a*b for a,b in zip(x,y))\n",
    "        denominator = self.square_rooted(x)*self.square_rooted(y)\n",
    "        return round(numerator/float(denominator),3)\n",
    "\n",
    "    def square_rooted(self,x):\n",
    "        \"\"\" return 3 rounded square rooted value \"\"\"\n",
    "        return round(sqrt(sum([a*a for a in x])),3)\n",
    "\n",
    "    def jaccard_similarity(self,x,y):\n",
    "        \"\"\" returns the jaccard similarity between two lists \"\"\"\n",
    "        intersection_cardinality = len(set.intersection(*[set(x), set(y)]))\n",
    "        union_cardinality = len(set.union(*[set(x), set(y)]))\n",
    "        return intersection_cardinality/float(union_cardinality)"
   ]
  },
  {
   "cell_type": "code",
   "execution_count": 2,
   "metadata": {},
   "outputs": [],
   "source": [
    "def main():\n",
    "    measures = Similarity()\n",
    "\n",
    "    print(measures.euclidean_distance([0,3,4,5],[7,6,3,-1]))\n",
    "    print(measures.jaccard_similarity([0,1,2,5,6],[0,2,3,5,7,9]))\n",
    "    print(measures.cosine_similarity([3, 45, 7, 2], [2, 54, 13, 15]))\n",
    "    print(measures.manhattan_distance([10,20,10],[10,20,20]))\n",
    "    print(measures.minkowski_distance([0,3,4,5],[7,6,3,-1],3))"
   ]
  },
  {
   "cell_type": "markdown",
   "metadata": {},
   "source": [
    "## Test in Jupyter notebook"
   ]
  },
  {
   "cell_type": "code",
   "execution_count": 3,
   "metadata": {},
   "outputs": [
    {
     "name": "stdout",
     "output_type": "stream",
     "text": [
      "9.746794344808963\n",
      "0.375\n",
      "0.972\n",
      "10\n",
      "8.373\n"
     ]
    }
   ],
   "source": [
    "main()"
   ]
  },
  {
   "cell_type": "code",
   "execution_count": null,
   "metadata": {},
   "outputs": [],
   "source": []
  }
 ],
 "metadata": {
  "kernelspec": {
   "display_name": "Python 3",
   "language": "python",
   "name": "python3"
  },
  "language_info": {
   "codemirror_mode": {
    "name": "ipython",
    "version": 3
   },
   "file_extension": ".py",
   "mimetype": "text/x-python",
   "name": "python",
   "nbconvert_exporter": "python",
   "pygments_lexer": "ipython3",
   "version": "3.6.7"
  }
 },
 "nbformat": 4,
 "nbformat_minor": 2
}
